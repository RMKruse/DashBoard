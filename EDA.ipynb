{
 "cells": [
  {
   "cell_type": "code",
   "execution_count": 2,
   "metadata": {},
   "outputs": [],
   "source": [
    "import pandas as pd"
   ]
  },
  {
   "cell_type": "code",
   "execution_count": 3,
   "metadata": {},
   "outputs": [],
   "source": [
    "df_happiness = pd.read_csv('data/simulated_data.csv')"
   ]
  },
  {
   "cell_type": "code",
   "execution_count": 4,
   "metadata": {},
   "outputs": [
    {
     "data": {
      "text/html": [
       "<div>\n",
       "<style scoped>\n",
       "    .dataframe tbody tr th:only-of-type {\n",
       "        vertical-align: middle;\n",
       "    }\n",
       "\n",
       "    .dataframe tbody tr th {\n",
       "        vertical-align: top;\n",
       "    }\n",
       "\n",
       "    .dataframe thead th {\n",
       "        text-align: right;\n",
       "    }\n",
       "</style>\n",
       "<table border=\"1\" class=\"dataframe\">\n",
       "  <thead>\n",
       "    <tr style=\"text-align: right;\">\n",
       "      <th></th>\n",
       "      <th>Date</th>\n",
       "      <th>Age_Group</th>\n",
       "      <th>Happiness_Level</th>\n",
       "      <th>Feedback</th>\n",
       "    </tr>\n",
       "  </thead>\n",
       "  <tbody>\n",
       "    <tr>\n",
       "      <th>0</th>\n",
       "      <td>2022-01-07 13:24:19.459459459</td>\n",
       "      <td>41-50</td>\n",
       "      <td>2</td>\n",
       "      <td>Many I are are things with job. be I improved..</td>\n",
       "    </tr>\n",
       "    <tr>\n",
       "      <th>1</th>\n",
       "      <td>2022-11-27 11:29:00.540540540</td>\n",
       "      <td>41-50</td>\n",
       "      <td>1</td>\n",
       "      <td>Very with I very job. with job. I job. environ...</td>\n",
       "    </tr>\n",
       "    <tr>\n",
       "      <th>2</th>\n",
       "      <td>2022-03-06 11:49:11.351351352</td>\n",
       "      <td>41-50</td>\n",
       "      <td>1</td>\n",
       "      <td>Disorganized. disorganized. unhappy with work ...</td>\n",
       "    </tr>\n",
       "    <tr>\n",
       "      <th>3</th>\n",
       "      <td>2022-04-16 07:13:52.432432432</td>\n",
       "      <td>51-60</td>\n",
       "      <td>2</td>\n",
       "      <td>Improved. be things could improved. could that...</td>\n",
       "    </tr>\n",
       "    <tr>\n",
       "      <th>4</th>\n",
       "      <td>2022-01-28 07:51:21.081081081</td>\n",
       "      <td>41-50</td>\n",
       "      <td>1</td>\n",
       "      <td>I job. stressful I work environment stressful ...</td>\n",
       "    </tr>\n",
       "  </tbody>\n",
       "</table>\n",
       "</div>"
      ],
      "text/plain": [
       "                            Date Age_Group  Happiness_Level  \\\n",
       "0  2022-01-07 13:24:19.459459459     41-50                2   \n",
       "1  2022-11-27 11:29:00.540540540     41-50                1   \n",
       "2  2022-03-06 11:49:11.351351352     41-50                1   \n",
       "3  2022-04-16 07:13:52.432432432     51-60                2   \n",
       "4  2022-01-28 07:51:21.081081081     41-50                1   \n",
       "\n",
       "                                            Feedback  \n",
       "0    Many I are are things with job. be I improved..  \n",
       "1  Very with I very job. with job. I job. environ...  \n",
       "2  Disorganized. disorganized. unhappy with work ...  \n",
       "3  Improved. be things could improved. could that...  \n",
       "4  I job. stressful I work environment stressful ...  "
      ]
     },
     "execution_count": 4,
     "metadata": {},
     "output_type": "execute_result"
    }
   ],
   "source": [
    "df_happiness.head()"
   ]
  },
  {
   "cell_type": "code",
   "execution_count": 10,
   "metadata": {},
   "outputs": [
    {
     "data": {
      "text/plain": [
       "DatetimeIndex(['2022-06-15 01:22:09.729729730',\n",
       "               '2022-12-25 12:49:43.783783784',\n",
       "               '2022-04-30 21:01:15.675675676',\n",
       "               '2022-03-20 08:07:12.432432433',\n",
       "               '2022-08-07 14:50:48.648648648',\n",
       "               '2022-11-24 22:16:12.972972972',\n",
       "               '2022-02-10 01:55:18.918918919',\n",
       "               '2022-05-21 06:43:36.216216216',\n",
       "               '2022-03-29 10:44:19.459459460',\n",
       "               '2022-10-17 07:19:38.378378380',\n",
       "               ...\n",
       "               '2022-11-18 17:36:34.594594596',\n",
       "               '2022-02-14 19:36:12.972972973',\n",
       "               '2022-04-09 09:04:51.891891892',\n",
       "               '2022-05-29 15:51:21.081081082',\n",
       "               '2022-11-19 02:21:15.675675676',\n",
       "               '2022-01-28 07:51:21.081081081',\n",
       "               '2022-04-16 07:13:52.432432432',\n",
       "               '2022-03-06 11:49:11.351351352',\n",
       "               '2022-11-27 11:29:00.540540540',\n",
       "               '2022-01-07 13:24:19.459459459'],\n",
       "              dtype='datetime64[ns]', length=629, freq=None)"
      ]
     },
     "execution_count": 10,
     "metadata": {},
     "output_type": "execute_result"
    }
   ],
   "source": [
    "# TODO: Daten in datetime umwandeln\n",
    "# TODO: die Wochentage und Wochenzahl auslesen zum subsetten\n",
    "\n",
    "unique_dates = pd.to_datetime(list(df_happiness.Date.unique())[::-1])\n",
    "unique_dates.\n"
   ]
  }
 ],
 "metadata": {
  "kernelspec": {
   "display_name": ".dash",
   "language": "python",
   "name": "python3"
  },
  "language_info": {
   "codemirror_mode": {
    "name": "ipython",
    "version": 3
   },
   "file_extension": ".py",
   "mimetype": "text/x-python",
   "name": "python",
   "nbconvert_exporter": "python",
   "pygments_lexer": "ipython3",
   "version": "3.10.11"
  }
 },
 "nbformat": 4,
 "nbformat_minor": 2
}
